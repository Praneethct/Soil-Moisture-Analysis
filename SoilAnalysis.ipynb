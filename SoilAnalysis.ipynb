{
 "cells": [
  {
   "cell_type": "code",
   "execution_count": 1,
   "metadata": {},
   "outputs": [],
   "source": [
    "import pyspark\n",
    "from pyspark.ml.linalg import Vectors\n",
    "from pyspark.ml.feature import VectorAssembler\n",
    "from pyspark.ml.feature import StandardScaler\n",
    "from pyspark.ml.feature import PCA\n",
    "from pyspark.ml.regression import LinearRegression\n",
    "from pyspark.ml.regression import DecisionTreeRegressor\n",
    "from pyspark.ml.regression import GBTRegressor\n",
    "from pyspark.ml.evaluation import RegressionEvaluator\n",
    "import numpy as np\n",
    "import matplotlib.pyplot as plt"
   ]
  },
  {
   "cell_type": "code",
   "execution_count": 2,
   "metadata": {},
   "outputs": [],
   "source": [
    "#Loading CSV file into spark dataframe\n",
    "df = spark.read.load(\"./soil_data.csv\", format = \"csv\", header = \"true\", inferSchema = \"true\")"
   ]
  },
  {
   "cell_type": "code",
   "execution_count": 3,
   "metadata": {},
   "outputs": [
    {
     "name": "stdout",
     "output_type": "stream",
     "text": [
      "+-----+-------------------+-------------+----------------+------------------+------------------+-------------------+-------------------+-------------------+--------------------+------------------+------------------+--------------------+------------------+--------------------+-------------------+------------------+-------------------+-------------------+-------------------+-------------------+--------------------+-------------------+------------------+------------------+------------------+-------------------+-------------------+-------------------+-------------------+------------------+-------------------+-------------------+-------------------+-------------------+-------------------+-------------------+------------------+-------------------+------------------+-------------------+-------------------+-------------------+-------------------+------------------+-------------------+-------------------+------------------+-------------------+------------------+-------------------+-------------------+------------------+------------------+-------------------+------------------+-------------------+-------------------+-------------------+-------------------+-------------------+-------------------+-------------------+-------------------+-------------------+-------------------+-------------------+-------------------+-------------------+------------------+-------------------+-------------------+-------------------+-------------------+-------------------+------------------+-------------------+-------------------+-------------------+-------------------+------------------+-------------------+-------------------+-------------------+-------------------+-------------------+------------------+-------------------+-------------------+------------------+-------------------+-------------------+-------------------+-------------------+-------------------+-------------------+-------------------+-------------------+-------------------+------------------+-------------------+-------------------+-------------------+-------------------+-------------------+------------------+------------------+------------------+-------------------+------------------+------------------+-------------------+-------------------+-------------------+-------------------+------------------+-------------------+------------------+-------------------+-------------------+-------------------+-------------------+------------------+-------------------+-------------------+------------------+-------------------+------------------+-------------------+\n",
      "|index|           datetime|soil_moisture|soil_temperature|               454|               458|                462|                466|                470|                 474|               478|               482|                 486|               490|                 494|                498|               502|                506|                510|                514|                518|                 522|                526|               530|               534|               538|                542|                546|                550|                554|               558|                562|                566|                570|                574|                578|                582|               586|                590|               594|                598|                602|                606|                610|               614|                618|                622|               626|                630|               634|                638|                642|               646|               650|                654|               658|                662|                666|                670|                674|                678|                682|                686|                690|                694|                698|                702|                706|                710|               714|                718|                722|                726|                730|                734|               738|                742|                746|                750|                754|               758|                762|                766|                770|                774|                778|               782|                786|                790|               794|                798|                802|                806|                810|                814|                818|                822|                826|                830|               834|                838|                842|                846|                850|                854|               858|               862|               866|                870|               874|               878|                882|                886|                890|                894|               898|                902|               906|                910|                914|                918|                922|               926|                930|                934|               938|                942|               946|                950|\n",
      "+-----+-------------------+-------------+----------------+------------------+------------------+-------------------+-------------------+-------------------+--------------------+------------------+------------------+--------------------+------------------+--------------------+-------------------+------------------+-------------------+-------------------+-------------------+-------------------+--------------------+-------------------+------------------+------------------+------------------+-------------------+-------------------+-------------------+-------------------+------------------+-------------------+-------------------+-------------------+-------------------+-------------------+-------------------+------------------+-------------------+------------------+-------------------+-------------------+-------------------+-------------------+------------------+-------------------+-------------------+------------------+-------------------+------------------+-------------------+-------------------+------------------+------------------+-------------------+------------------+-------------------+-------------------+-------------------+-------------------+-------------------+-------------------+-------------------+-------------------+-------------------+-------------------+-------------------+-------------------+-------------------+------------------+-------------------+-------------------+-------------------+-------------------+-------------------+------------------+-------------------+-------------------+-------------------+-------------------+------------------+-------------------+-------------------+-------------------+-------------------+-------------------+------------------+-------------------+-------------------+------------------+-------------------+-------------------+-------------------+-------------------+-------------------+-------------------+-------------------+-------------------+-------------------+------------------+-------------------+-------------------+-------------------+-------------------+-------------------+------------------+------------------+------------------+-------------------+------------------+------------------+-------------------+-------------------+-------------------+-------------------+------------------+-------------------+------------------+-------------------+-------------------+-------------------+-------------------+------------------+-------------------+-------------------+------------------+-------------------+------------------+-------------------+\n",
      "|    0|2017-05-23 14:06:17|        33.51|            34.8|0.0821307072515667|0.0558630119148382|0.05004707249163712|0.04792453699437943|0.04749805590799329|0.046464007512496366|0.0466690408125433|0.0468343978434563|0.047469387026235516|0.0486078461254122|0.049343063331283785|0.05032136014164098|0.0513082037757476|0.05323688137963632|0.05427658700776326|0.05591405147796745|0.05752556610960069|0.059339912085421234|0.06095742246643634|0.0625428483908454|0.0641049240681086|0.0661576785486241|0.06775160973057301|0.06953802898831743|0.07126913110569784|0.07289026110305985|0.0750496777007706|0.07727250667313758|0.07861510939332396|0.08079698978793301|0.08232195849288608|0.08487348272943973|0.08652608349169373|0.0878958150141561|0.08929853769438101|0.0907834694780894|0.09193711013445384|0.09322425616760023|0.09438528090484026|0.09552530526437507|0.0965402868686156|0.09731437649386104|0.09864262239392634|0.0997270563784134|0.10031545589705468|0.1009700663856134|0.10244467887937254|0.10315791161053492|0.1043301291486938|0.1055021256283178|0.10674721127112256|0.1078079490218471|0.10897152734431266|0.11006202277101164|0.11147523172078146|0.11240779170117317|0.11402572420338028|0.11542798827197125|0.11665566950356195|0.11756292084249913|0.11860436149011193|0.12029736913185025|0.12153994246762405|0.12290165658480053|0.12412760756636748|0.1253885885885886|0.12691501835726504|0.12825459521811744|0.12945619019931287|0.13055950287820034|0.13170288311775985|0.1330317550791703|0.13423127971856755|0.13541306198786734|0.13670460465804352|0.13787890241136894|0.1388253726969118|0.13968155700439167|0.14011048850180624|0.14096084380636506|0.14171769620236793|0.14216466678435444|0.1432397793640493|0.14441676221906782|0.14523692565941002|0.1455949363379291|0.14584316699924801|0.14607164395519368|0.14654956656276305|0.14675382128207715|0.14721088767806093|0.14759014043858318|0.14786040463795164|0.14804264012110108|0.14827338623680955|0.1481683496719982|0.14830559881957536|0.14869524544156504|0.14916877692636565|0.14962084386544816|0.14998861660392052|0.1500423582567224|0.1500731350560702|0.1505044884819641|0.15080340570370776|0.1509359810560425|0.1509012267459553|0.15092238947552358|0.15115560478732706|0.15115679432041776|0.15194386239956587|0.1524158975134917|0.15271884284887555|0.1530320346788755|0.15289984209911706|0.15284454177486387|0.15261478865215902|0.15292694809357346|0.1542403583648571|0.15501848303960256|0.15472485450713855|0.1546816150584269|0.15427472478889429|0.1534769850967241|0.15392888605446772|\n",
      "+-----+-------------------+-------------+----------------+------------------+------------------+-------------------+-------------------+-------------------+--------------------+------------------+------------------+--------------------+------------------+--------------------+-------------------+------------------+-------------------+-------------------+-------------------+-------------------+--------------------+-------------------+------------------+------------------+------------------+-------------------+-------------------+-------------------+-------------------+------------------+-------------------+-------------------+-------------------+-------------------+-------------------+-------------------+------------------+-------------------+------------------+-------------------+-------------------+-------------------+-------------------+------------------+-------------------+-------------------+------------------+-------------------+------------------+-------------------+-------------------+------------------+------------------+-------------------+------------------+-------------------+-------------------+-------------------+-------------------+-------------------+-------------------+-------------------+-------------------+-------------------+-------------------+-------------------+-------------------+-------------------+------------------+-------------------+-------------------+-------------------+-------------------+-------------------+------------------+-------------------+-------------------+-------------------+-------------------+------------------+-------------------+-------------------+-------------------+-------------------+-------------------+------------------+-------------------+-------------------+------------------+-------------------+-------------------+-------------------+-------------------+-------------------+-------------------+-------------------+-------------------+-------------------+------------------+-------------------+-------------------+-------------------+-------------------+-------------------+------------------+------------------+------------------+-------------------+------------------+------------------+-------------------+-------------------+-------------------+-------------------+------------------+-------------------+------------------+-------------------+-------------------+-------------------+-------------------+------------------+-------------------+-------------------+------------------+-------------------+------------------+-------------------+\n",
      "only showing top 1 row\n",
      "\n"
     ]
    }
   ],
   "source": [
    "#Showing first row of the data set\n",
    "df.show(1)"
   ]
  },
  {
   "cell_type": "code",
   "execution_count": 4,
   "metadata": {},
   "outputs": [
    {
     "data": {
      "text/plain": [
       "679"
      ]
     },
     "execution_count": 4,
     "metadata": {},
     "output_type": "execute_result"
    }
   ],
   "source": [
    "#Number of data points\n",
    "df.count()"
   ]
  },
  {
   "cell_type": "code",
   "execution_count": 5,
   "metadata": {},
   "outputs": [
    {
     "name": "stdout",
     "output_type": "stream",
     "text": [
      "+-------+------------------+\n",
      "|summary|     soil_moisture|\n",
      "+-------+------------------+\n",
      "|  count|               679|\n",
      "|   mean|31.568335787923413|\n",
      "| stddev| 3.645354181464279|\n",
      "|    min|              25.5|\n",
      "|    max|              42.5|\n",
      "+-------+------------------+\n",
      "\n",
      "+-------+-----------------+\n",
      "|summary| soil_temperature|\n",
      "+-------+-----------------+\n",
      "|  count|              679|\n",
      "|   mean|37.49837997054491|\n",
      "| stddev| 4.66060313268832|\n",
      "|    min|             26.4|\n",
      "|    max|             47.1|\n",
      "+-------+-----------------+\n",
      "\n"
     ]
    }
   ],
   "source": [
    "#Summary of soil moisture and soil temperature in the dataframe\n",
    "df.describe('soil_moisture').show()\n",
    "df.describe('soil_temperature').show()"
   ]
  },
  {
   "cell_type": "code",
   "execution_count": 6,
   "metadata": {},
   "outputs": [],
   "source": [
    "#Column index doesn't effect the soil moisture and soil temperature and colum datetime has all the values as Null so there is nothing we can do about it so dropping them.\n",
    "df = df.drop(\"index\", \"datetime\")"
   ]
  },
  {
   "cell_type": "code",
   "execution_count": 7,
   "metadata": {},
   "outputs": [
    {
     "name": "stdout",
     "output_type": "stream",
     "text": [
      "null values in  soil_moisture  :  0\n",
      "null values in  soil_temperature  :  0\n",
      "null values in  454  :  0\n",
      "null values in  458  :  0\n",
      "null values in  462  :  0\n",
      "null values in  466  :  0\n",
      "null values in  470  :  0\n",
      "null values in  474  :  0\n",
      "null values in  478  :  0\n",
      "null values in  482  :  0\n",
      "null values in  486  :  0\n",
      "null values in  490  :  0\n",
      "null values in  494  :  0\n",
      "null values in  498  :  0\n",
      "null values in  502  :  0\n",
      "null values in  506  :  0\n",
      "null values in  510  :  0\n",
      "null values in  514  :  0\n",
      "null values in  518  :  0\n",
      "null values in  522  :  0\n",
      "null values in  526  :  0\n",
      "null values in  530  :  0\n",
      "null values in  534  :  0\n",
      "null values in  538  :  0\n",
      "null values in  542  :  0\n",
      "null values in  546  :  0\n",
      "null values in  550  :  0\n",
      "null values in  554  :  0\n",
      "null values in  558  :  0\n",
      "null values in  562  :  0\n",
      "null values in  566  :  0\n",
      "null values in  570  :  0\n",
      "null values in  574  :  0\n",
      "null values in  578  :  0\n",
      "null values in  582  :  0\n",
      "null values in  586  :  0\n",
      "null values in  590  :  0\n",
      "null values in  594  :  0\n",
      "null values in  598  :  0\n",
      "null values in  602  :  0\n",
      "null values in  606  :  0\n",
      "null values in  610  :  0\n",
      "null values in  614  :  0\n",
      "null values in  618  :  0\n",
      "null values in  622  :  0\n",
      "null values in  626  :  0\n",
      "null values in  630  :  0\n",
      "null values in  634  :  0\n",
      "null values in  638  :  0\n",
      "null values in  642  :  0\n",
      "null values in  646  :  0\n",
      "null values in  650  :  0\n",
      "null values in  654  :  0\n",
      "null values in  658  :  0\n",
      "null values in  662  :  0\n",
      "null values in  666  :  0\n",
      "null values in  670  :  0\n",
      "null values in  674  :  0\n",
      "null values in  678  :  0\n",
      "null values in  682  :  0\n",
      "null values in  686  :  0\n",
      "null values in  690  :  0\n",
      "null values in  694  :  0\n",
      "null values in  698  :  0\n",
      "null values in  702  :  0\n",
      "null values in  706  :  0\n",
      "null values in  710  :  0\n",
      "null values in  714  :  0\n",
      "null values in  718  :  0\n",
      "null values in  722  :  0\n",
      "null values in  726  :  0\n",
      "null values in  730  :  0\n",
      "null values in  734  :  0\n",
      "null values in  738  :  0\n",
      "null values in  742  :  0\n",
      "null values in  746  :  0\n",
      "null values in  750  :  0\n",
      "null values in  754  :  0\n",
      "null values in  758  :  0\n",
      "null values in  762  :  0\n",
      "null values in  766  :  0\n",
      "null values in  770  :  0\n",
      "null values in  774  :  0\n",
      "null values in  778  :  0\n",
      "null values in  782  :  0\n",
      "null values in  786  :  0\n",
      "null values in  790  :  0\n",
      "null values in  794  :  0\n",
      "null values in  798  :  0\n",
      "null values in  802  :  0\n",
      "null values in  806  :  0\n",
      "null values in  810  :  0\n",
      "null values in  814  :  0\n",
      "null values in  818  :  0\n",
      "null values in  822  :  0\n",
      "null values in  826  :  0\n",
      "null values in  830  :  0\n",
      "null values in  834  :  0\n",
      "null values in  838  :  0\n",
      "null values in  842  :  0\n",
      "null values in  846  :  0\n",
      "null values in  850  :  0\n",
      "null values in  854  :  0\n",
      "null values in  858  :  0\n",
      "null values in  862  :  0\n",
      "null values in  866  :  0\n",
      "null values in  870  :  0\n",
      "null values in  874  :  0\n",
      "null values in  878  :  0\n",
      "null values in  882  :  0\n",
      "null values in  886  :  0\n",
      "null values in  890  :  0\n",
      "null values in  894  :  0\n",
      "null values in  898  :  0\n",
      "null values in  902  :  0\n",
      "null values in  906  :  0\n",
      "null values in  910  :  0\n",
      "null values in  914  :  0\n",
      "null values in  918  :  0\n",
      "null values in  922  :  0\n",
      "null values in  926  :  0\n",
      "null values in  930  :  0\n",
      "null values in  934  :  0\n",
      "null values in  938  :  0\n",
      "null values in  942  :  0\n",
      "null values in  946  :  0\n",
      "null values in  950  :  0\n"
     ]
    }
   ],
   "source": [
    "#Checking for Null values in the dataset\n",
    "for i in df.columns:\n",
    "    print(\"null values in \",i,\" : \", df.filter(df[i].isNull()).count())"
   ]
  },
  {
   "cell_type": "code",
   "execution_count": 8,
   "metadata": {
    "scrolled": false
   },
   "outputs": [],
   "source": [
    "#There are no null values so no need for replacing data. We continue by checking the data plots\n",
    "mois = df.select('soil_moisture').rdd.flatMap(lambda x : x).collect()\n",
    "temp = df.select('soil_temperature').rdd.flatMap(lambda x : x).collect()"
   ]
  },
  {
   "cell_type": "code",
   "execution_count": 9,
   "metadata": {},
   "outputs": [
    {
     "name": "stdout",
     "output_type": "stream",
     "text": [
      "Correlation to Soil Moisture for Soil Temperature  -0.7924512320665361\n",
      "Correlation to Soil Moisture for  454 -0.68464353924301\n",
      "Correlation to Soil Temperature for  454 0.6570490434206713\n",
      "Correlation to Soil Moisture for  458 -0.6566842647123694\n",
      "Correlation to Soil Temperature for  458 0.5894129997532919\n",
      "Correlation to Soil Moisture for  462 -0.6485693079310291\n",
      "Correlation to Soil Temperature for  462 0.5556178512720275\n",
      "Correlation to Soil Moisture for  466 -0.6568421035616981\n",
      "Correlation to Soil Temperature for  466 0.5476263759828514\n",
      "Correlation to Soil Moisture for  470 -0.6546444116747379\n",
      "Correlation to Soil Temperature for  470 0.5378368850499435\n",
      "Correlation to Soil Moisture for  474 -0.6573370091999691\n",
      "Correlation to Soil Temperature for  474 0.5357292897132211\n",
      "Correlation to Soil Moisture for  478 -0.6586948036818706\n",
      "Correlation to Soil Temperature for  478 0.5340645382631255\n",
      "Correlation to Soil Moisture for  482 -0.6564469517107351\n",
      "Correlation to Soil Temperature for  482 0.5288038909204847\n",
      "Correlation to Soil Moisture for  486 -0.6560021360141225\n",
      "Correlation to Soil Temperature for  486 0.5256379534839637\n",
      "Correlation to Soil Moisture for  490 -0.6592002288291273\n",
      "Correlation to Soil Temperature for  490 0.5261723746085567\n",
      "Correlation to Soil Moisture for  494 -0.6574933474504148\n",
      "Correlation to Soil Temperature for  494 0.5253076958422754\n",
      "Correlation to Soil Moisture for  498 -0.6607880071556066\n",
      "Correlation to Soil Temperature for  498 0.5266450779591845\n",
      "Correlation to Soil Moisture for  502 -0.6661113802556047\n",
      "Correlation to Soil Temperature for  502 0.5309135216130121\n",
      "Correlation to Soil Moisture for  506 -0.6699097498129681\n",
      "Correlation to Soil Temperature for  506 0.5341702037362552\n",
      "Correlation to Soil Moisture for  510 -0.6756931187666383\n",
      "Correlation to Soil Temperature for  510 0.5402380612579611\n",
      "Correlation to Soil Moisture for  514 -0.6820057248317662\n",
      "Correlation to Soil Temperature for  514 0.5455893004540128\n",
      "Correlation to Soil Moisture for  518 -0.684944923342196\n",
      "Correlation to Soil Temperature for  518 0.5472898533836117\n",
      "Correlation to Soil Moisture for  522 -0.687982901654421\n",
      "Correlation to Soil Temperature for  522 0.5513164718396286\n",
      "Correlation to Soil Moisture for  526 -0.6903782146796004\n",
      "Correlation to Soil Temperature for  526 0.5523550603640762\n",
      "Correlation to Soil Moisture for  530 -0.6953790782323531\n",
      "Correlation to Soil Temperature for  530 0.5567086819697239\n",
      "Correlation to Soil Moisture for  534 -0.6992771543845941\n",
      "Correlation to Soil Temperature for  534 0.5604504626017948\n",
      "Correlation to Soil Moisture for  538 -0.7002315829213641\n",
      "Correlation to Soil Temperature for  538 0.5623239114354603\n",
      "Correlation to Soil Moisture for  542 -0.7020146851585637\n",
      "Correlation to Soil Temperature for  542 0.564905861377758\n",
      "Correlation to Soil Moisture for  546 -0.703995845497048\n",
      "Correlation to Soil Temperature for  546 0.5657312927892375\n",
      "Correlation to Soil Moisture for  550 -0.7060117741000899\n",
      "Correlation to Soil Temperature for  550 0.5672169436798378\n",
      "Correlation to Soil Moisture for  554 -0.7081440006504618\n",
      "Correlation to Soil Temperature for  554 0.5707101435312812\n",
      "Correlation to Soil Moisture for  558 -0.7103266930039209\n",
      "Correlation to Soil Temperature for  558 0.5729878386232216\n",
      "Correlation to Soil Moisture for  562 -0.7138797572439562\n",
      "Correlation to Soil Temperature for  562 0.5750034623091587\n",
      "Correlation to Soil Moisture for  566 -0.7166938174296154\n",
      "Correlation to Soil Temperature for  566 0.5796314991812109\n",
      "Correlation to Soil Moisture for  570 -0.7176121003835524\n",
      "Correlation to Soil Temperature for  570 0.5802741123689817\n",
      "Correlation to Soil Moisture for  574 -0.7192942281082991\n",
      "Correlation to Soil Temperature for  574 0.5822308959964563\n",
      "Correlation to Soil Moisture for  578 -0.7219784687185314\n",
      "Correlation to Soil Temperature for  578 0.585251785310304\n",
      "Correlation to Soil Moisture for  582 -0.7236681179441052\n",
      "Correlation to Soil Temperature for  582 0.5861293525704518\n",
      "Correlation to Soil Moisture for  586 -0.7253497962571481\n",
      "Correlation to Soil Temperature for  586 0.5881864628237781\n",
      "Correlation to Soil Moisture for  590 -0.7252226765426865\n",
      "Correlation to Soil Temperature for  590 0.5892526100319633\n",
      "Correlation to Soil Moisture for  594 -0.7265628882113345\n",
      "Correlation to Soil Temperature for  594 0.5914437138652948\n",
      "Correlation to Soil Moisture for  598 -0.7289629290941972\n",
      "Correlation to Soil Temperature for  598 0.5940875958384181\n",
      "Correlation to Soil Moisture for  602 -0.7296567267813617\n",
      "Correlation to Soil Temperature for  602 0.5946898653491182\n",
      "Correlation to Soil Moisture for  606 -0.7279415702673186\n",
      "Correlation to Soil Temperature for  606 0.5945909369278051\n",
      "Correlation to Soil Moisture for  610 -0.7264213864576711\n",
      "Correlation to Soil Temperature for  610 0.594906400634739\n",
      "Correlation to Soil Moisture for  614 -0.7260008666697879\n",
      "Correlation to Soil Temperature for  614 0.5956681234857456\n",
      "Correlation to Soil Moisture for  618 -0.7266663480120413\n",
      "Correlation to Soil Temperature for  618 0.5982268529587013\n",
      "Correlation to Soil Moisture for  622 -0.7267082088940318\n",
      "Correlation to Soil Temperature for  622 0.5989844232580981\n",
      "Correlation to Soil Moisture for  626 -0.7263519849908153\n",
      "Correlation to Soil Temperature for  626 0.5989604183906647\n",
      "Correlation to Soil Moisture for  630 -0.7259522812290771\n",
      "Correlation to Soil Temperature for  630 0.5999224063537751\n",
      "Correlation to Soil Moisture for  634 -0.7252908504678499\n",
      "Correlation to Soil Temperature for  634 0.6007378745258524\n",
      "Correlation to Soil Moisture for  638 -0.7253489499723699\n",
      "Correlation to Soil Temperature for  638 0.6016023249639791\n",
      "Correlation to Soil Moisture for  642 -0.724262409860942\n",
      "Correlation to Soil Temperature for  642 0.6005232551624831\n",
      "Correlation to Soil Moisture for  646 -0.7221439822979139\n",
      "Correlation to Soil Temperature for  646 0.5998523909757493\n",
      "Correlation to Soil Moisture for  650 -0.720178591705357\n",
      "Correlation to Soil Temperature for  650 0.5995394939270626\n",
      "Correlation to Soil Moisture for  654 -0.7186391787228479\n",
      "Correlation to Soil Temperature for  654 0.5997018301953111\n",
      "Correlation to Soil Moisture for  658 -0.7184407165309752\n",
      "Correlation to Soil Temperature for  658 0.6009330224602324\n",
      "Correlation to Soil Moisture for  662 -0.7179022641633258\n",
      "Correlation to Soil Temperature for  662 0.6009603633056929\n",
      "Correlation to Soil Moisture for  666 -0.7162868824316005\n",
      "Correlation to Soil Temperature for  666 0.6003299854023133\n",
      "Correlation to Soil Moisture for  670 -0.7136111395327236\n",
      "Correlation to Soil Temperature for  670 0.598800583735799\n",
      "Correlation to Soil Moisture for  674 -0.7098263603982828\n",
      "Correlation to Soil Temperature for  674 0.5959370176992277\n",
      "Correlation to Soil Moisture for  678 -0.705825059225832\n",
      "Correlation to Soil Temperature for  678 0.5946527003975675\n",
      "Correlation to Soil Moisture for  682 -0.7045885977228137\n",
      "Correlation to Soil Temperature for  682 0.5956074263612369\n",
      "Correlation to Soil Moisture for  686 -0.7062448168346825\n",
      "Correlation to Soil Temperature for  686 0.5977760681679882\n",
      "Correlation to Soil Moisture for  690 -0.710603090237211\n",
      "Correlation to Soil Temperature for  690 0.6008854077796547\n",
      "Correlation to Soil Moisture for  694 -0.7152311122422271\n",
      "Correlation to Soil Temperature for  694 0.6041983425752167\n",
      "Correlation to Soil Moisture for  698 -0.7187991883421128\n",
      "Correlation to Soil Temperature for  698 0.6059231108059793\n",
      "Correlation to Soil Moisture for  702 -0.7219481060260091\n",
      "Correlation to Soil Temperature for  702 0.6080783587533226\n",
      "Correlation to Soil Moisture for  706 -0.7243338131346986\n",
      "Correlation to Soil Temperature for  706 0.6095410411002116\n",
      "Correlation to Soil Moisture for  710 -0.7262097525192132\n",
      "Correlation to Soil Temperature for  710 0.611449399623377\n",
      "Correlation to Soil Moisture for  714 -0.7276199706898366\n",
      "Correlation to Soil Temperature for  714 0.6133805008029094\n",
      "Correlation to Soil Moisture for  718 -0.7313693811366241\n",
      "Correlation to Soil Temperature for  718 0.6175050112928604\n",
      "Correlation to Soil Moisture for  722 -0.7365406292104267\n",
      "Correlation to Soil Temperature for  722 0.6219022387254135\n",
      "Correlation to Soil Moisture for  726 -0.7428748063959957\n",
      "Correlation to Soil Temperature for  726 0.6264659126618058\n",
      "Correlation to Soil Moisture for  730 -0.7473240427498009\n",
      "Correlation to Soil Temperature for  730 0.6294665608011151\n",
      "Correlation to Soil Moisture for  734 -0.7497269759163109\n",
      "Correlation to Soil Temperature for  734 0.6309138251203629\n"
     ]
    },
    {
     "name": "stdout",
     "output_type": "stream",
     "text": [
      "Correlation to Soil Moisture for  738 -0.7516625735217946\n",
      "Correlation to Soil Temperature for  738 0.6317210031067051\n",
      "Correlation to Soil Moisture for  742 -0.7525832913584259\n",
      "Correlation to Soil Temperature for  742 0.6313566805961777\n",
      "Correlation to Soil Moisture for  746 -0.752650300324954\n",
      "Correlation to Soil Temperature for  746 0.6308703898645449\n",
      "Correlation to Soil Moisture for  750 -0.7529533105819444\n",
      "Correlation to Soil Temperature for  750 0.6302689553011385\n",
      "Correlation to Soil Moisture for  754 -0.7549260090778163\n",
      "Correlation to Soil Temperature for  754 0.631414031590127\n",
      "Correlation to Soil Moisture for  758 -0.7587625246173633\n",
      "Correlation to Soil Temperature for  758 0.6336117927088254\n",
      "Correlation to Soil Moisture for  762 -0.7629697262569147\n",
      "Correlation to Soil Temperature for  762 0.634626579387894\n",
      "Correlation to Soil Moisture for  766 -0.7660590471264779\n",
      "Correlation to Soil Temperature for  766 0.6342456837078428\n",
      "Correlation to Soil Moisture for  770 -0.7670626624587552\n",
      "Correlation to Soil Temperature for  770 0.6326180139446003\n",
      "Correlation to Soil Moisture for  774 -0.7670663208892707\n",
      "Correlation to Soil Temperature for  774 0.6307213318951636\n",
      "Correlation to Soil Moisture for  778 -0.7670273223991786\n",
      "Correlation to Soil Temperature for  778 0.6293022095631704\n",
      "Correlation to Soil Moisture for  782 -0.7679837615862268\n",
      "Correlation to Soil Temperature for  782 0.6296596338066929\n",
      "Correlation to Soil Moisture for  786 -0.7683386958866768\n",
      "Correlation to Soil Temperature for  786 0.6292246499796821\n",
      "Correlation to Soil Moisture for  790 -0.7674396314045733\n",
      "Correlation to Soil Temperature for  790 0.6286705345042776\n",
      "Correlation to Soil Moisture for  794 -0.7660206970265379\n",
      "Correlation to Soil Temperature for  794 0.6275513962026871\n",
      "Correlation to Soil Moisture for  798 -0.7653896493196969\n",
      "Correlation to Soil Temperature for  798 0.6275668342138483\n",
      "Correlation to Soil Moisture for  802 -0.7652730635748723\n",
      "Correlation to Soil Temperature for  802 0.6286761778364834\n",
      "Correlation to Soil Moisture for  806 -0.7665490513018892\n",
      "Correlation to Soil Temperature for  806 0.6296287105123825\n",
      "Correlation to Soil Moisture for  810 -0.7680091717427225\n",
      "Correlation to Soil Temperature for  810 0.6301364251644082\n",
      "Correlation to Soil Moisture for  814 -0.768914020537412\n",
      "Correlation to Soil Temperature for  814 0.6302729730609814\n",
      "Correlation to Soil Moisture for  818 -0.7687540932856993\n",
      "Correlation to Soil Temperature for  818 0.6291846311415663\n",
      "Correlation to Soil Moisture for  822 -0.7690582859874832\n",
      "Correlation to Soil Temperature for  822 0.628909085898918\n",
      "Correlation to Soil Moisture for  826 -0.7693153517543574\n",
      "Correlation to Soil Temperature for  826 0.6285573723524813\n",
      "Correlation to Soil Moisture for  830 -0.769979275949585\n",
      "Correlation to Soil Temperature for  830 0.6288660795888382\n",
      "Correlation to Soil Moisture for  834 -0.770477049500282\n",
      "Correlation to Soil Temperature for  834 0.6286171371771512\n",
      "Correlation to Soil Moisture for  838 -0.7703740040267258\n",
      "Correlation to Soil Temperature for  838 0.627550964073809\n",
      "Correlation to Soil Moisture for  842 -0.7697574069613006\n",
      "Correlation to Soil Temperature for  842 0.6260518735230562\n",
      "Correlation to Soil Moisture for  846 -0.7687938466188188\n",
      "Correlation to Soil Temperature for  846 0.6238844742679526\n",
      "Correlation to Soil Moisture for  850 -0.7683297396151695\n",
      "Correlation to Soil Temperature for  850 0.6224879620273648\n",
      "Correlation to Soil Moisture for  854 -0.7678142889955923\n",
      "Correlation to Soil Temperature for  854 0.6213966704036742\n",
      "Correlation to Soil Moisture for  858 -0.7668405726173724\n",
      "Correlation to Soil Temperature for  858 0.620591024701604\n",
      "Correlation to Soil Moisture for  862 -0.7662742047604787\n",
      "Correlation to Soil Temperature for  862 0.6196357374356111\n",
      "Correlation to Soil Moisture for  866 -0.7657234182366663\n",
      "Correlation to Soil Temperature for  866 0.619483475396246\n",
      "Correlation to Soil Moisture for  870 -0.7654511622262941\n",
      "Correlation to Soil Temperature for  870 0.6204051339564629\n",
      "Correlation to Soil Moisture for  874 -0.7655205047984324\n",
      "Correlation to Soil Temperature for  874 0.620973271442537\n",
      "Correlation to Soil Moisture for  878 -0.7659315868874855\n",
      "Correlation to Soil Temperature for  878 0.6218636257255133\n",
      "Correlation to Soil Moisture for  882 -0.7666044226364386\n",
      "Correlation to Soil Temperature for  882 0.622780012073792\n",
      "Correlation to Soil Moisture for  886 -0.7674773004036399\n",
      "Correlation to Soil Temperature for  886 0.6242537565569477\n",
      "Correlation to Soil Moisture for  890 -0.7682851920213187\n",
      "Correlation to Soil Temperature for  890 0.6253287300755636\n",
      "Correlation to Soil Moisture for  894 -0.7685808160970354\n",
      "Correlation to Soil Temperature for  894 0.6261205008469053\n",
      "Correlation to Soil Moisture for  898 -0.7692535915451013\n",
      "Correlation to Soil Temperature for  898 0.6276189296608748\n",
      "Correlation to Soil Moisture for  902 -0.7697069977273112\n",
      "Correlation to Soil Temperature for  902 0.6284552257690026\n",
      "Correlation to Soil Moisture for  906 -0.7698367084050156\n",
      "Correlation to Soil Temperature for  906 0.6292658050820559\n",
      "Correlation to Soil Moisture for  910 -0.7701697249369456\n",
      "Correlation to Soil Temperature for  910 0.6300096014616986\n",
      "Correlation to Soil Moisture for  914 -0.7714620549095086\n",
      "Correlation to Soil Temperature for  914 0.6318392769988809\n",
      "Correlation to Soil Moisture for  918 -0.7722996139447026\n",
      "Correlation to Soil Temperature for  918 0.6335576415341357\n",
      "Correlation to Soil Moisture for  922 -0.7731790567872705\n",
      "Correlation to Soil Temperature for  922 0.6356386193511562\n",
      "Correlation to Soil Moisture for  926 -0.774200539716379\n",
      "Correlation to Soil Temperature for  926 0.6378617392270453\n",
      "Correlation to Soil Moisture for  930 -0.7752094199115512\n",
      "Correlation to Soil Temperature for  930 0.6407523470903168\n",
      "Correlation to Soil Moisture for  934 -0.7765954348858252\n",
      "Correlation to Soil Temperature for  934 0.644068468067399\n",
      "Correlation to Soil Moisture for  938 -0.7774330705626359\n",
      "Correlation to Soil Temperature for  938 0.6464627806137592\n",
      "Correlation to Soil Moisture for  942 -0.7789683421646366\n",
      "Correlation to Soil Temperature for  942 0.6499300842131921\n",
      "Correlation to Soil Moisture for  946 -0.7803979830317169\n",
      "Correlation to Soil Temperature for  946 0.65319226406547\n",
      "Correlation to Soil Moisture for  950 -0.7808323826939568\n",
      "Correlation to Soil Temperature for  950 0.6566593058882041\n"
     ]
    }
   ],
   "source": [
    "#After looking at means of bandwiths and data plots and also by referring the https://www.researchgate.net/figure/Transmission-spectrum-of-the-water-sample-measured-using-UV-Vis-spectrophotometer_fig2_310823463 it is concluded that the water content is not seen effected in the region 395nm - 670nm and is constant and there won't be any data loss if drop these columns and to visualize we can performing Principal Component Analysis as the remaining bandwidths as they are correlated we have to find out the correlation between Soil Moisture, Soil Temperature and Bandwidths\n",
    "#Reference : https://spark.apache.org/docs/2.2.0/ml-statistics.html\n",
    "print(\"Correlation to Soil Moisture for Soil Temperature \",df.stat.corr('soil_moisture', 'soil_temperature'))\n",
    "for i in df.columns[2:]:\n",
    "    print(\"Correlation to Soil Moisture for \", i, df.stat.corr('soil_moisture', i))\n",
    "    print(\"Correlation to Soil Temperature for \", i, df.stat.corr('soil_temperature', i))"
   ]
  },
  {
   "cell_type": "code",
   "execution_count": 10,
   "metadata": {},
   "outputs": [],
   "source": [
    "#We can see that Soil Moisture and Soil Temperature are negatively correlated which means as temperature increases moisture decreases, Soil Moisture and Bandwidths are negatively correlated and Soil Temperature and Bandwidths are positively correlated so droping the Columns which make less effect\n",
    "df = df.drop(*[i for i in df.columns[2:] if int(i) >= 395 and int(i) <= 670])"
   ]
  },
  {
   "cell_type": "code",
   "execution_count": 11,
   "metadata": {},
   "outputs": [
    {
     "name": "stdout",
     "output_type": "stream",
     "text": [
      "+--------------------+-------------+\n",
      "|    bandwidth_vector|soil_moisture|\n",
      "+--------------------+-------------+\n",
      "|[0.11240779170117...|        33.51|\n",
      "|[0.11171016358718...|        33.49|\n",
      "|[0.11129123178626...|        33.46|\n",
      "|[0.11185990892114...|        33.33|\n",
      "|[0.11195497416603...|        33.32|\n",
      "|[0.11171383175162...|        33.23|\n",
      "|[0.11152710898834...|        33.16|\n",
      "|[0.11163119876876...|        33.05|\n",
      "|[0.11188776980464...|        32.96|\n",
      "|[0.11176166929305...|        32.96|\n",
      "|[0.11223397614781...|        32.95|\n",
      "|[0.11306221985608...|        32.84|\n",
      "|[0.11258029456686...|        32.85|\n",
      "|[0.11253460024184...|        32.72|\n",
      "|[0.11272422824430...|        32.78|\n",
      "|[0.11259693495528...|        32.76|\n",
      "|[0.11299465823612...|        32.74|\n",
      "|[0.11385203499571...|        32.61|\n",
      "|[0.11339976717296...|        32.66|\n",
      "|[0.11415772938181...|         32.5|\n",
      "+--------------------+-------------+\n",
      "only showing top 20 rows\n",
      "\n"
     ]
    }
   ],
   "source": [
    "#As we can see visualization is harder with more than 3 dimensions of data and Collecting all the rows of bandwidths into a matrix\n",
    "#Reference : https://spark.apache.org/docs/latest/ml-features#vectorassembler\n",
    "bandwidth_vector = VectorAssembler(inputCols=df.columns[2:], outputCol = 'bandwidth_vector').transform(df).select(['bandwidth_vector', 'soil_moisture'])\n",
    "bandwidth_vector.show()"
   ]
  },
  {
   "cell_type": "code",
   "execution_count": 12,
   "metadata": {},
   "outputs": [
    {
     "name": "stdout",
     "output_type": "stream",
     "text": [
      "+--------------------+--------------------+\n",
      "|    bandwidth_vector|    bandwidth_scaled|\n",
      "+--------------------+--------------------+\n",
      "|[0.11240779170117...|[3.06726973468146...|\n",
      "|[0.11171016358718...|[3.04823356674581...|\n",
      "|[0.11129123178626...|[3.03680218094597...|\n",
      "|[0.11185990892114...|[3.05231966543882...|\n",
      "|[0.11195497416603...|[3.05491370935751...|\n",
      "|[0.11171383175162...|[3.04833365989403...|\n",
      "|[0.11152710898834...|[3.04323855863897...|\n",
      "|[0.11163119876876...|[3.04607885492399...|\n",
      "|[0.11188776980464...|[3.05307990495130...|\n",
      "|[0.11176166929305...|[3.04963900217312...|\n",
      "|[0.11223397614781...|[3.06252683227078...|\n",
      "|[0.11306221985608...|[3.08512710597847...|\n",
      "|[0.11258029456686...|[3.07197681780345...|\n",
      "|[0.11253460024184...|[3.07072995743836...|\n",
      "|[0.11272422824430...|[3.07590433391158...|\n",
      "|[0.11259693495528...|[3.07243088383370...|\n",
      "|[0.11299465823612...|[3.08328355306292...|\n",
      "|[0.11385203499571...|[3.10667877990714...|\n",
      "|[0.11339976717296...|[3.09433775457689...|\n",
      "|[0.11415772938181...|[3.11502025805877...|\n",
      "+--------------------+--------------------+\n",
      "only showing top 20 rows\n",
      "\n"
     ]
    }
   ],
   "source": [
    "#Normalizing the data such that Mean is 0 and Standard Deviation is 1 because their ranges are different from each other\n",
    "#Reference : https://spark.apache.org/docs/latest/ml-features#standardscaler\n",
    "bandwidth_scaled = StandardScaler(inputCol = 'bandwidth_vector', outputCol = 'bandwidth_scaled', withStd = True, withMean = False).fit(bandwidth_vector).transform(bandwidth_vector).select(['bandwidth_vector', 'bandwidth_scaled'])\n",
    "bandwidth_scaled.show()"
   ]
  },
  {
   "cell_type": "code",
   "execution_count": 13,
   "metadata": {},
   "outputs": [
    {
     "name": "stdout",
     "output_type": "stream",
     "text": [
      "+--------------------+\n",
      "|           bandwidth|\n",
      "+--------------------+\n",
      "|[-30.313259108046...|\n",
      "|[-30.11353540946921]|\n",
      "|[-30.090382036176...|\n",
      "|[-30.19628691922226]|\n",
      "|[-30.293219553224...|\n",
      "|[-30.199967285287...|\n",
      "|[-30.13209405877572]|\n",
      "|[-30.157943950252...|\n",
      "|[-30.225989892838...|\n",
      "|[-30.286251051701...|\n",
      "|[-30.297029461692...|\n",
      "|[-30.501008811295...|\n",
      "|[-30.442601757302...|\n",
      "|[-30.36093887826493]|\n",
      "|[-30.51690895337983]|\n",
      "|[-30.575470417045...|\n",
      "|[-30.663846245589...|\n",
      "|[-30.713457670857...|\n",
      "|[-30.637473896996...|\n",
      "|[-30.814650545948...|\n",
      "+--------------------+\n",
      "only showing top 20 rows\n",
      "\n"
     ]
    }
   ],
   "source": [
    "#Performing Principal Component Analysis by computing the Eigen Vectors of the Matrix and taking the top one from them\n",
    "#Reference : https://spark.apache.org/docs/2.2.0/ml-features.html#pca\n",
    "bandwidth = PCA(k = 1, inputCol='bandwidth_scaled', outputCol='bandwidth').fit(bandwidth_scaled).transform(bandwidth_scaled).select('bandwidth')\n",
    "bandwidth.show()"
   ]
  },
  {
   "cell_type": "code",
   "execution_count": 14,
   "metadata": {},
   "outputs": [],
   "source": [
    "#Converting bandwidth from vector to list\n",
    "bw = bandwidth.select('bandwidth').rdd.flatMap(lambda x : np.array(x).tolist()[0]).collect()"
   ]
  },
  {
   "cell_type": "code",
   "execution_count": 15,
   "metadata": {},
   "outputs": [
    {
     "data": {
      "image/png": "[encoded data removed]",
      "text/plain": [
       "<Figure size 432x288 with 1 Axes>"
      ]
     },
     "metadata": {
      "needs_background": "light"
     },
     "output_type": "display_data"
    }
   ],
   "source": [
    "#Visualization of data\n",
    "plt.plot(bw[0:10], mois[0:10], 'o')\n",
    "plt.plot(bw[0:10], temp[0:10], 'o')\n",
    "plt.xlabel('bandwidth')\n",
    "plt.ylabel('soil_moisture and soil_temperature')\n",
    "plt.show()"
   ]
  },
  {
   "cell_type": "code",
   "execution_count": 16,
   "metadata": {},
   "outputs": [],
   "source": [
    "#Regression\n",
    "#Training Data and Testing Data\n",
    "data = bandwidth_vector.randomSplit([0.7, 0.3])\n",
    "train_data = data[0]\n",
    "test_data = data[1]"
   ]
  },
  {
   "cell_type": "code",
   "execution_count": 17,
   "metadata": {},
   "outputs": [
    {
     "name": "stdout",
     "output_type": "stream",
     "text": [
      "Coefficients :  [0.0,0.0,0.0,0.0,0.0,0.0,0.0,0.0,0.0,0.0,0.0,0.0,0.0,0.0,0.0,0.0,0.0,0.0,0.0,0.0,0.0,-0.32533467364818025,-0.9826471013184493,-1.053060971322134,-1.0666915415959026,-1.0647936741974109,-1.0629444915722297,-1.0875554158684115,-1.0968744372936563,-1.0792490819237957,-1.0473454430034115,-1.0251096583072656,-1.0259668921361105,-1.0575822709377563,-1.0897195644071105,-1.1072687483004144,-1.1044539894894059,-1.1134123303158325,-1.1241329793776809,-1.1462315183951186,-1.160367039118229,-1.1617101889740478,-1.1558511487379295,-1.1370014312441081,-1.1324619912012028,-1.1229334232086852,-1.1004851121547214,-1.0862241981239027,-1.066865955272169,-1.0668179602036223,-1.073908171261009,-1.093244802792491,-1.109538800437736,-1.1358705832660865,-1.1686139811154868,-1.1766470715115183,-1.1992209074691944,-1.2203553610006364,-1.2279760415009486,-1.2393371374494502,-1.2758172989693375,-1.3177620584787484,-1.3475782434657833,-1.384528093304562,-1.4264835142183145,-1.4842970513862512,-1.5366723430970874,-1.6022583520628004,-1.6736223499098053,-9.960570720225807]\n",
      "Intercept :  43.672161100470305\n"
     ]
    }
   ],
   "source": [
    "#Linear Regression Y =B0 + B1 . X where, X has all the data from Independent Variables [bandwidths from 674 to 950] and Y data has all the data from Dependent Variable [soil_moisture]. We are Obtaining Coefficients and Intercept\n",
    "#Reference : https://spark.apache.org/docs/2.1.1/ml-classification-regression.html#linear-regression\n",
    "lr = LinearRegression(featuresCol = 'bandwidth_vector', labelCol = 'soil_moisture', maxIter = 10, regParam = 0.3, elasticNetParam = 0.8).fit(train_data)\n",
    "print(\"Coefficients : \", lr.coefficients)\n",
    "print(\"Intercept : \", lr.intercept)"
   ]
  },
  {
   "cell_type": "code",
   "execution_count": 18,
   "metadata": {},
   "outputs": [
    {
     "name": "stdout",
     "output_type": "stream",
     "text": [
      "+--------------------+-------------+------------------+\n",
      "|    bandwidth_vector|soil_moisture|        prediction|\n",
      "+--------------------+-------------+------------------+\n",
      "|[0.10950639996868...|        33.89| 34.01879975691391|\n",
      "|[0.10961970640160...|        33.78| 34.01001371556758|\n",
      "|[0.10973992801332...|         33.0| 33.79902354467676|\n",
      "|[0.11027667356962...|        35.32| 34.15351026584608|\n",
      "|[0.11031649855465...|        32.74| 33.78700923991667|\n",
      "|[0.11053527290408...|        33.27| 33.74778441186581|\n",
      "|[0.11065334590490...|        33.12| 33.74771062257848|\n",
      "|[0.11091357857468...|        33.65| 33.93173521308931|\n",
      "|[0.11112760719674...|        32.02| 33.55881245426484|\n",
      "|[0.11115375234510...|        32.11|33.639191960508924|\n",
      "|[0.11120236211928...|        31.92| 33.58578635796095|\n",
      "|[0.11124792554922...|        34.27| 33.92780659009544|\n",
      "|[0.11136053319756...|        33.81| 33.94734410817594|\n",
      "|[0.11152710898834...|        33.16|33.848231282693426|\n",
      "|[0.11162212364091...|        31.71|  33.4903627919424|\n",
      "|[0.11163119876876...|        33.05| 33.85158689184681|\n",
      "|[0.11165834479045...|        33.85|33.687504650878175|\n",
      "|[0.11171522258479...|        31.77|33.568832251433555|\n",
      "|[0.11176166929305...|        32.96| 33.82726511187613|\n",
      "|[0.11188776980464...|        32.96| 33.87789545935348|\n",
      "+--------------------+-------------+------------------+\n",
      "only showing top 20 rows\n",
      "\n"
     ]
    }
   ],
   "source": [
    "#Even after dropping the Data with less effect we still got some coefficients zero\n",
    "#Predicting Data\n",
    "pred = lr.transform(test_data)\n",
    "pred.show()"
   ]
  },
  {
   "cell_type": "code",
   "execution_count": 19,
   "metadata": {},
   "outputs": [
    {
     "name": "stdout",
     "output_type": "stream",
     "text": [
      "R squared value of Linear Regression Prediction is  0.566537468846386\n"
     ]
    }
   ],
   "source": [
    "#Computing R squared value for Linear Regression\n",
    "#Reference : https://spark.apache.org/docs/1.6.2/api/java/org/apache/spark/ml/evaluation/RegressionEvaluator.html\n",
    "rsquare = RegressionEvaluator(predictionCol = \"prediction\", labelCol = \"soil_moisture\", metricName = \"r2\")\n",
    "print(\"R squared value of Linear Regression Prediction is \", rsquare.evaluate(pred))"
   ]
  },
  {
   "cell_type": "code",
   "execution_count": 20,
   "metadata": {},
   "outputs": [],
   "source": [
    "#Decision Tree Regression\n",
    "#Reference : https://spark.apache.org/docs/latest/ml-classification-regression.html#decision-trees\n",
    "dt = DecisionTreeRegressor(featuresCol = \"bandwidth_vector\", labelCol = \"soil_moisture\").fit(train_data)"
   ]
  },
  {
   "cell_type": "code",
   "execution_count": 21,
   "metadata": {},
   "outputs": [
    {
     "name": "stdout",
     "output_type": "stream",
     "text": [
      "+--------------------+-------------+------------------+\n",
      "|    bandwidth_vector|soil_moisture|        prediction|\n",
      "+--------------------+-------------+------------------+\n",
      "|[0.10950639996868...|        33.89|33.819705882352935|\n",
      "|[0.10961970640160...|        33.78|33.819705882352935|\n",
      "|[0.10973992801332...|         33.0|33.819705882352935|\n",
      "|[0.11027667356962...|        35.32|33.819705882352935|\n",
      "|[0.11031649855465...|        32.74|33.819705882352935|\n",
      "|[0.11053527290408...|        33.27|33.819705882352935|\n",
      "|[0.11065334590490...|        33.12|33.819705882352935|\n",
      "|[0.11091357857468...|        33.65|33.819705882352935|\n",
      "|[0.11112760719674...|        32.02| 31.85277777777778|\n",
      "|[0.11115375234510...|        32.11| 31.85277777777778|\n",
      "|[0.11120236211928...|        31.92| 31.85277777777778|\n",
      "|[0.11124792554922...|        34.27|33.819705882352935|\n",
      "|[0.11136053319756...|        33.81|33.819705882352935|\n",
      "|[0.11152710898834...|        33.16|33.819705882352935|\n",
      "|[0.11162212364091...|        31.71| 31.85277777777778|\n",
      "|[0.11163119876876...|        33.05|33.819705882352935|\n",
      "|[0.11165834479045...|        33.85| 31.85277777777778|\n",
      "|[0.11171522258479...|        31.77| 31.85277777777778|\n",
      "|[0.11176166929305...|        32.96|33.819705882352935|\n",
      "|[0.11188776980464...|        32.96|33.819705882352935|\n",
      "+--------------------+-------------+------------------+\n",
      "only showing top 20 rows\n",
      "\n"
     ]
    }
   ],
   "source": [
    "#Predicting Data\n",
    "dt_pred = dt.transform(test_data)\n",
    "dt_pred.show()"
   ]
  },
  {
   "cell_type": "code",
   "execution_count": 22,
   "metadata": {},
   "outputs": [
    {
     "name": "stdout",
     "output_type": "stream",
     "text": [
      "R squared value of Decision Tree Regression Pediction is  0.7975304101132455\n"
     ]
    }
   ],
   "source": [
    "#Computing R squared value for Decision Tree Regression\n",
    "rsquare = RegressionEvaluator(predictionCol = \"prediction\", labelCol = \"soil_moisture\", metricName = \"r2\")\n",
    "print(\"R squared value of Decision Tree Regression Pediction is \", rsquare.evaluate(dt_pred)) "
   ]
  },
  {
   "cell_type": "code",
   "execution_count": 23,
   "metadata": {},
   "outputs": [],
   "source": [
    "#Gradient Boosted Tree Regression\n",
    "#Reference : https://spark.apache.org/docs/latest/ml-classification-regression.html#gradient-boosted-tree-regression\n",
    "gbt = GBTRegressor(featuresCol = \"bandwidth_vector\", labelCol = \"soil_moisture\", maxIter = 10).fit(train_data)"
   ]
  },
  {
   "cell_type": "code",
   "execution_count": 24,
   "metadata": {},
   "outputs": [
    {
     "name": "stdout",
     "output_type": "stream",
     "text": [
      "+--------------------+-------------+------------------+\n",
      "|    bandwidth_vector|soil_moisture|        prediction|\n",
      "+--------------------+-------------+------------------+\n",
      "|[0.10950639996868...|        33.89| 34.02107186362346|\n",
      "|[0.10961970640160...|        33.78| 34.06715391490551|\n",
      "|[0.10973992801332...|         33.0|33.297847057325534|\n",
      "|[0.11027667356962...|        35.32| 33.67706236684986|\n",
      "|[0.11031649855465...|        32.74|33.442096525921194|\n",
      "|[0.11053527290408...|        33.27|33.970924897613884|\n",
      "|[0.11065334590490...|        33.12|33.970924897613884|\n",
      "|[0.11091357857468...|        33.65|34.120180424266486|\n",
      "|[0.11112760719674...|        32.02|31.732743732221643|\n",
      "|[0.11115375234510...|        32.11|31.695074281734048|\n",
      "|[0.11120236211928...|        31.92|31.695766115009526|\n",
      "|[0.11124792554922...|        34.27|34.120180424266486|\n",
      "|[0.11136053319756...|        33.81|34.120180424266486|\n",
      "|[0.11152710898834...|        33.16| 33.73995827554721|\n",
      "|[0.11162212364091...|        31.71|31.575268670377973|\n",
      "|[0.11163119876876...|        33.05|33.617284141081505|\n",
      "|[0.11165834479045...|        33.85|32.106822143033185|\n",
      "|[0.11171522258479...|        31.77|31.695766115009526|\n",
      "|[0.11176166929305...|        32.96| 33.54748679013043|\n",
      "|[0.11188776980464...|        32.96|33.995519573923914|\n",
      "+--------------------+-------------+------------------+\n",
      "only showing top 20 rows\n",
      "\n"
     ]
    }
   ],
   "source": [
    "#Predicting Data\n",
    "gbt_pred = gbt.transform(test_data)\n",
    "gbt_pred.show()"
   ]
  },
  {
   "cell_type": "code",
   "execution_count": 25,
   "metadata": {},
   "outputs": [
    {
     "name": "stdout",
     "output_type": "stream",
     "text": [
      "R squared value of Gradient Boosted Tree Regression Prediction is  0.8361457102792099\n"
     ]
    }
   ],
   "source": [
    "#Computing R squared value for Gradient Boosted Tree Regression\n",
    "rsquare = RegressionEvaluator(predictionCol = \"prediction\", labelCol = \"soil_moisture\", metricName = \"r2\")\n",
    "print(\"R squared value of Gradient Boosted Tree Regression Prediction is \", rsquare.evaluate(gbt_pred))"
   ]
  },
  {
   "cell_type": "code",
   "execution_count": 26,
   "metadata": {},
   "outputs": [
    {
     "name": "stdout",
     "output_type": "stream",
     "text": [
      "R squared value of Linear Regression Prediction is  0.566537468846386 R squared value of Decision Tree Regression Pediction is  0.7975304101132455 R squared value of Gradient Boosted Tree Regression Prediction is  0.8361457102792099\n"
     ]
    }
   ],
   "source": [
    "#Conclusion after proper analysis and modeling of data we can say that Gradient Boosted Tree Regression is best suitable for this data than Linear Regression and Decision Tree Regression\n",
    "print(\"R squared value of Linear Regression Prediction is \", rsquare.evaluate(pred), \"R squared value of Decision Tree Regression Pediction is \", rsquare.evaluate(dt_pred), \"R squared value of Gradient Boosted Tree Regression Prediction is \", rsquare.evaluate(gbt_pred))"
   ]
  }
 ],
 "metadata": {
  "kernelspec": {
   "display_name": "Python 3",
   "language": "python",
   "name": "python3"
  },
  "language_info": {
   "codemirror_mode": {
    "name": "ipython",
    "version": 3
   },
   "file_extension": ".py",
   "mimetype": "text/x-python",
   "name": "python",
   "nbconvert_exporter": "python",
   "pygments_lexer": "ipython3",
   "version": "3.7.3"
  }
 },
 "nbformat": 4,
 "nbformat_minor": 2
}
